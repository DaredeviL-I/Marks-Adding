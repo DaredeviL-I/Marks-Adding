def sum_marks_by_roll(input_file, output_file):
    marks_dict = {}

    with open(input_file, 'r') as infile:
        for line in infile:
            parts = line.strip().split()
            if len(parts) == 2:
                roll, mark = parts[0], int(parts[1])
                marks_dict[roll] = marks_dict.get(roll, 0) + mark

    with open(output_file, 'w') as outfile:
        for roll in sorted(marks_dict):
            outfile.write(f"{roll} {marks_dict[roll]}\n")

# Example usage
sum_marks_by_roll("marks.txt", "total_marks.txt")
